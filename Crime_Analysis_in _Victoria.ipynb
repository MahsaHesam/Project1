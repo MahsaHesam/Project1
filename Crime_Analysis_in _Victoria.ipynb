{
 "cells": [
  {
   "cell_type": "markdown",
   "id": "d680188f-69bd-475d-87de-eebb61ac2704",
   "metadata": {},
   "source": [
    "#  Crime Analysis in Victoria"
   ]
  },
  {
   "cell_type": "markdown",
   "id": "45498d16-cfd4-49a2-bc86-14928911d9fc",
   "metadata": {},
   "source": [
    "## Initial Data Cleaning"
   ]
  },
  {
   "cell_type": "code",
   "execution_count": null,
   "id": "55aa5cd0-2e98-42e6-bc1f-b4c9ec142d09",
   "metadata": {},
   "outputs": [],
   "source": [
    "# Dependencies\n",
    "import pandas as pd\n",
    "import numpy as np\n",
    "import matplotlib.pyplot as plt"
   ]
  },
  {
   "cell_type": "code",
   "execution_count": null,
   "id": "b3a9c4c7-7e48-451d-bd2d-bb51aa2dcf1c",
   "metadata": {},
   "outputs": [],
   "source": [
    "# Read in the dataset for crimes recorded in Victoria\n",
    "vic_crimes = pd.read_csv(\"Data/crime_table2.csv\", low_memory=False).dropna(how='any')\n",
    "vic_crimes[\"Year\"] = vic_crimes[\"Year\"].astype(int)\n",
    "vic_crimes.head()"
   ]
  },
  {
   "cell_type": "code",
   "execution_count": null,
   "id": "b69a3eae-bcc5-4e92-9c9c-c0d985c42601",
   "metadata": {},
   "outputs": [],
   "source": [
    "# Get relevant columns\n",
    "clean_crimes = vic_crimes[[\"Year\", \"Local Government Area\", \"Offence Division\", \"Offence Subdivision\", \n",
    "                     \"Incidents Recorded\", \"LGA Rate per 100,000 population\"]]\n",
    "clean_crimes.head()"
   ]
  },
  {
   "cell_type": "markdown",
   "id": "031ae6a2-0a75-4578-acef-0a45c1a304ce",
   "metadata": {
    "jp-MarkdownHeadingCollapsed": true
   },
   "source": [
    "## Crime Rates in All LGAs in 2023"
   ]
  },
  {
   "cell_type": "code",
   "execution_count": null,
   "id": "007e003e-92ba-4afe-9173-796432870ae5",
   "metadata": {},
   "outputs": [],
   "source": [
    "# Filter to only show data by Local Government Area and LGA Rate per 100,000 population for year 2023\n",
    "crime_23 = clean_crimes.loc[clean_crimes[\"Year\"] == 2023]\n",
    "crime_all_LGAs = crime_23.groupby(\"Local Government Area\")[\"LGA Rate per 100,000 population\"].sum().reset_index()\n",
    "crime_all_LGAs_sorted = crime_all_LGAs.sort_values(by=\"LGA Rate per 100,000 population\", ascending=True)  \n",
    "crime_all_LGAs_sorted.head()"
   ]
  },
  {
   "cell_type": "code",
   "execution_count": null,
   "id": "17cc7b60-0e70-41ca-ad9b-428ef5f89737",
   "metadata": {},
   "outputs": [],
   "source": [
    "#Plot a horozontal bar chart to show all data clearly.\n",
    "\n",
    "plt.figure(figsize=(10, 16))\n",
    "\n",
    "plt.barh(crime_all_LGAs_sorted[\"Local Government Area\"], \n",
    "         crime_all_LGAs_sorted[\"LGA Rate per 100,000 population\"],\n",
    "         color='indigo')\n",
    "\n",
    "plt.title(\"Crime Rate by Local Government Area for 2023\")\n",
    "plt.xlabel(\"LGA Rate per 100,000 population\")\n",
    "\n",
    "plt.yticks(crime_all_LGAs_sorted[\"Local Government Area\"], fontsize=12)\n",
    "\n",
    "plt.grid(axis='x', linestyle='-')\n",
    "plt.ylim(-0.75, len(crime_all_LGAs_sorted[\"Local Government Area\"]) - 0.25)\n",
    "\n",
    "plt.savefig('Visualisation Images/crime rate all LGAs 2023.png', bbox_inches='tight')\n"
   ]
  },
  {
   "cell_type": "markdown",
   "id": "84f5cd04-5599-4974-b414-93bd56852fc5",
   "metadata": {
    "jp-MarkdownHeadingCollapsed": true
   },
   "source": [
    "## Crime Rates in Top 10 LGAs in 2023"
   ]
  },
  {
   "cell_type": "code",
   "execution_count": null,
   "id": "ba8717f0-7955-474b-85ae-e31bd2b43e80",
   "metadata": {},
   "outputs": [],
   "source": [
    "# Filter to only show data by top 10 Local Government Area and LGA Rate per 100,000 population for year 2023\n",
    "crime_23 = clean_crimes.loc[clean_crimes[\"Year\"] == 2023]\n",
    "crime_all_LGAs = crime_23.groupby(\"Local Government Area\")[\"LGA Rate per 100,000 population\"].sum().reset_index()\n",
    "crime_all_LGAs_sorted = crime_all_LGAs.sort_values(by=\"LGA Rate per 100,000 population\", ascending=False)\n",
    "\n",
    "top_10_LGAs = crime_all_LGAs_sorted.head(10)\n",
    "top_10_LGAs"
   ]
  },
  {
   "cell_type": "code",
   "execution_count": null,
   "id": "44427054-7a7d-4e79-86f1-3c7c6cc883e5",
   "metadata": {},
   "outputs": [],
   "source": [
    "# Plotting the top 10 Local Government Areas based on crime rate\n",
    "plt.figure(figsize=(14, 12))\n",
    "plt.barh(top_10_LGAs[\"Local Government Area\"], top_10_LGAs[\"LGA Rate per 100,000 population\"], color='lightcoral')\n",
    "plt.title(\"Top 10 Local Government Area for Crime rate 2023\")\n",
    "plt.xlabel(\"LGA Rate per 100,000 population\")\n",
    "plt.gca().invert_yaxis()\n",
    "plt.grid(axis='x', linestyle='-')\n",
    "plt.savefig('Visualisation Images/top 10 LGA crime rate 2023.png', bbox_inches='tight')\n"
   ]
  },
  {
   "cell_type": "markdown",
   "id": "53fbe9f0-94a4-4318-8d27-a2fc853ee0e8",
   "metadata": {
    "jp-MarkdownHeadingCollapsed": true
   },
   "source": [
    "## Crime Rates for Top 10 LGAs  over the period 2014-2023 "
   ]
  },
  {
   "cell_type": "code",
   "execution_count": null,
   "id": "827e6616-0fad-49db-8dcf-448d75d9fe1f",
   "metadata": {},
   "outputs": [],
   "source": [
    "# Define the list of desired Local Government Areas\n",
    "desired_LGAs = ['Melbourne', 'Latrobe', 'Mildura', 'Yarra', 'Port Phillip',\n",
    "                'Greater Dandenong', 'Horsham', \"Ararat\", 'Greater Shepparton', 'Maribyrnong']\n",
    "\n",
    "# Filter the DataFrame to include only the desired LGAs and years\n",
    "filtered_crimes = clean_crimes[(clean_crimes['Year'] >= 2014) & (clean_crimes['Year'] <= 2023) &\n",
    "                                (clean_crimes['Local Government Area'].isin(desired_LGAs))]\n",
    "\n",
    "# Group by Year and Local Government Area, and sum the 'LGA Rate per 100,000 population' column\n",
    "LGA_crime_2014_to_2023 = filtered_crimes.groupby(['Year', 'Local Government Area'])['LGA Rate per 100,000 population'].sum().reset_index()\n",
    "LGA_crime_2014_to_2023.head()"
   ]
  },
  {
   "cell_type": "code",
   "execution_count": null,
   "id": "98777560-f9dd-491d-98de-1ca1c703397b",
   "metadata": {},
   "outputs": [],
   "source": [
    "\n",
    "# Plotting the line chart\n",
    "plt.figure(figsize=(12, 16))  # Adjust the figure size as needed\n",
    "for LGA in desired_LGAs:\n",
    "    LGA_data = LGA_crime_2014_to_2023[LGA_crime_2014_to_2023['Local Government Area'] == LGA]\n",
    "    plt.plot(LGA_data['Year'], LGA_data['LGA Rate per 100,000 population'], label=LGA)\n",
    "\n",
    "plt.title('Top 10 LGAs Crime Rate over the period 2014-2023')\n",
    "plt.xlabel('Years')\n",
    "plt.ylabel('LGA Rate per 100,000 population')\n",
    "plt.legend()\n",
    "plt.grid(True)\n",
    "\n",
    "# Set x-axis limits and ticks to start from the very beginning\n",
    "plt.xlim(2014, 2023)  # Set the x-axis limits from 2014 to 2023\n",
    "plt.xticks(range(2014, 2024))  \n",
    "\n",
    "plt.tight_layout()  \n",
    "\n",
    "plt.savefig('Visualisation Images/top 10 LGA crime rate over the period 2014-2023.png')\n",
    "\n"
   ]
  },
  {
   "cell_type": "markdown",
   "id": "7b6512b5-953e-4b23-b012-44b382da541e",
   "metadata": {
    "jp-MarkdownHeadingCollapsed": true
   },
   "source": [
    "## Divisions of Crime in 2023 "
   ]
  },
  {
   "cell_type": "code",
   "execution_count": null,
   "id": "a1494e42-ebbc-48ed-b8fe-51090067a02b",
   "metadata": {},
   "outputs": [],
   "source": [
    "# To create a dataframe for showing crime incidents recorded by offence division. \n",
    "# Group by 'Offence Division' and sum the 'Incidents Recorded' column\n",
    "divisions_group = crime_23.groupby(\"Offence Division\")['Incidents Recorded'].sum()\n",
    "\n",
    "# Create a DataFrame from the grouped data\n",
    "division_incidents = pd.DataFrame(divisions_group).reset_index()\n",
    "division_incidents['Offence Division'] = division_incidents['Offence Division'].apply(lambda x: x[1:])\n",
    "division_incidents"
   ]
  },
  {
   "cell_type": "code",
   "execution_count": null,
   "id": "43dba533-154f-4bd8-9770-20fd3de53acd",
   "metadata": {},
   "outputs": [],
   "source": [
    "#Plotting the pie chart\n",
    "division_incidents['Percentage'] = (division_incidents['Incidents Recorded'] / division_incidents['Incidents Recorded'].sum()) * 100\n",
    "plt.figure(figsize=(8, 8))\n",
    "colours = [\"gold\", \"yellowgreen\", \"lightcoral\", \"lightskyblue\", \"red\", \"violet\"]\n",
    "explode = [0, 0.05, 0, 0, 0, 0]\n",
    "plt.pie(division_incidents['Incidents Recorded'], autopct='%.02f%%', colors=colours, radius=1,\n",
    "        startangle=28, explode=explode, pctdistance=1.2)\n",
    "plt.title(\"Major Divisions of Offences by Incidents Recorded in 2023\", x=0.7)\n",
    "\n",
    "plt.legend(division_incidents['Offence Division'], loc=(1.07, 0.3), title=\"Offence Divisions\")\n",
    "\n",
    "\n",
    "plt.tight_layout()\n",
    "\n",
    "plt.savefig('Visualisation Images/major division of offences for 2023.png')\n"
   ]
  },
  {
   "cell_type": "code",
   "execution_count": null,
   "id": "c51eee40-756d-4abb-a3f3-16ee5c6055d2",
   "metadata": {},
   "outputs": [],
   "source": [
    "## To create a dataframe for showing crime incidents recorded by offence subdivision. \n",
    "crimes_by_subdivision = clean_crimes.loc[clean_crimes[\"Year\"] == 2023]\n",
    "crimes_by_subdivision = crimes_by_subdivision.groupby(['Offence Subdivision'])[\"Incidents Recorded\"].sum().reset_index()\n",
    "crimes_by_subdivision_sorted = crimes_by_subdivision.sort_values(by=\"Incidents Recorded\", ascending=False)\n",
    "crimes_by_subdivision_sorted['Offence Subdivision'] = crimes_by_subdivision_sorted['Offence Subdivision'].apply(lambda x: x[3:])\n",
    "crimes_by_subdivision_sorted_on = crimes_by_subdivision_sorted.head(10)\n",
    "\n",
    "crimes_by_subdivision_sorted.head()"
   ]
  },
  {
   "cell_type": "code",
   "execution_count": null,
   "id": "e0626e82-4749-4cdd-96df-2901ed9ec6c7",
   "metadata": {},
   "outputs": [],
   "source": [
    "# Plotting the bar chart\n",
    "plt.figure(figsize=(14, 12))\n",
    "plt.barh(crimes_by_subdivision_sorted_on['Offence Subdivision'], crimes_by_subdivision_sorted_on['Incidents Recorded'], color='navy')\n",
    "plt.xlabel('Incidents Recorded')\n",
    "plt.title('Top 10 Offence Subdivisions by Incidents Recorded in 2023')\n",
    "plt.tight_layout()\n",
    "plt.gca().invert_yaxis()\n",
    "plt.grid(axis='x', linestyle='-')\n",
    "plt.savefig('Visualisation Images/top 10 Offence subdivisions by incidents recorded.png')"
   ]
  },
  {
   "cell_type": "code",
   "execution_count": null,
   "id": "61731663-d749-4344-a2a9-b9114c8b16f7",
   "metadata": {},
   "outputs": [],
   "source": [
    "# Filter data on Top 10 LGAs by Offence Division for 2023. \n",
    "\n",
    "crimes_by_subdivision = clean_crimes.loc[clean_crimes[\"Year\"] == 2023]\n",
    "\n",
    "# Group by \"Local Government Area\" and \"Offence Division\", summing up \"LGA Rate per 100,000 population\"\n",
    "crimes_by_subdivision = crimes_by_subdivision.groupby([\"Local Government Area\", 'Offence Division'])[\"LGA Rate per 100,000 population\"].sum().reset_index()\n",
    "\n",
    "crimes_by_subdivision['Offence Division'] = crimes_by_subdivision['Offence Division'].apply(lambda x: x[1:])\n",
    "crimes_by_subdivision.head()"
   ]
  },
  {
   "cell_type": "code",
   "execution_count": null,
   "id": "8636fa3d-0393-4c42-8758-670232b0853f",
   "metadata": {},
   "outputs": [],
   "source": [
    " # List of selected LGAs\n",
    "selected_lgas = ['Melbourne', 'Latrobe', 'Mildura', 'Yarra', 'Port Phillip', 'Greater Dandenong', 'Horsham', 'Ararat', 'Greater Shepparton', 'Maribyrnong']\n",
    "\n",
    "\n",
    "# Filter the DataFrame to include only the selected LGAs\n",
    "selected_crimes = crimes_by_subdivision[crimes_by_subdivision['Local Government Area'].isin(selected_lgas)]\n",
    "\n",
    "# Sort the selected crimes DataFrame by \"Offence Division\" and \"LGA Rate per 100,000 population\" in descending order\n",
    "selected_crimes_sorted = selected_crimes.sort_values(by=[\"Offence Division\", \"LGA Rate per 100,000 population\"], ascending=[True, False])\n",
    "\n",
    "# Reset the index to make 'Local Government Area' a column again\n",
    "selected_crimes_sorted.reset_index(drop=True, inplace=True)\n",
    "\n",
    "# Pivot the DataFrame to have 'Offence Division' as columns\n",
    "pivoted_crimes = selected_crimes_sorted.pivot(index='Local Government Area', columns='Offence Division', values='LGA Rate per 100,000 population')\n",
    "\n",
    "# Calculate the total sum of each Offence Division and sort the columns (Offence Divisions) by these sums in descending order\n",
    "sorted_columns = pivoted_crimes.sum().sort_values(ascending=False).index\n",
    "pivoted_crimes = pivoted_crimes[sorted_columns]\n",
    "\n",
    "# Calculate the total sum of each LGA and sort the rows (LGAs) by these sums in descending order\n",
    "sorted_rows = pivoted_crimes.sum(axis=1).sort_values(ascending=False).index\n",
    "pivoted_crimes = pivoted_crimes.loc[sorted_rows]\n",
    "\n",
    "\n",
    "# Adjust keys in colors_dict by stripping leading/trailing spaces\n",
    "colors_dict = {\n",
    "    'Crimes against the person': 'gold',\n",
    "    'Property and deception offences': 'yellowgreen',\n",
    "    'Drug offences': 'lightcoral',\n",
    "    'Public order and security offences': 'lightskyblue',\n",
    "    'Justice procedures offences': 'red',\n",
    "    'Other offences': 'violet'\n",
    "}\n",
    "\n",
    "\n",
    "# Strip leading/trailing spaces from pivoted_crimes columns before using them as keys\n",
    "pivoted_crimes.columns = pivoted_crimes.columns.str.strip()\n",
    "\n",
    "# Plotting the stacked bar chart\n",
    "ax = pivoted_crimes.plot(kind='barh', stacked=True, figsize=(12, 12), color=[colors_dict[col] for col in pivoted_crimes.columns])\n",
    "plt.title('Stacked Bar Chart for Top 10 LGAs by Offence Division for 2023')\n",
    "plt.xlabel('LGA Rate per 100,000 population')\n",
    "ax.set_ylabel('')\n",
    "plt.legend(title='Offence Division')\n",
    "plt.tight_layout()\n",
    "plt.gca().invert_yaxis()\n",
    "\n",
    "plt.savefig('Visualisation Images/stacked bar Chart for top 10 LGAs by offence division for 2023.png')\n",
    "\n",
    "\n"
   ]
  },
  {
   "cell_type": "markdown",
   "id": "cc3a4494-755f-48e1-8307-cae351226ea3",
   "metadata": {},
   "source": [
    "## Crime Rates for Major Offence Divisions over the period 2014-2023"
   ]
  },
  {
   "cell_type": "code",
   "execution_count": null,
   "id": "8b73b66a-b0a8-42b5-8372-d6fb38b3794e",
   "metadata": {},
   "outputs": [],
   "source": [
    "# Group by Year and Offence Division, and sum the 'Incidents Recorded' column\n",
    "division_crime_2014_to_2023 = clean_crimes.groupby(['Year', 'Offence Division'])['LGA Rate per 100,000 population'].sum().reset_index()\n",
    "division_crime_2014_to_2023['Offence Division'] = division_crime_2014_to_2023['Offence Division'].apply(lambda x: x[1:])\n",
    "division_crime_2014_to_2023.head()"
   ]
  },
  {
   "cell_type": "code",
   "execution_count": null,
   "id": "f9814897-d560-47cc-8d22-c843e14543db",
   "metadata": {},
   "outputs": [],
   "source": [
    "# Plotting the line chart\n",
    "plt.figure(figsize=(14, 10))  # Set the figure size\n",
    "for division in division_crime_2014_to_2023['Offence Division'].unique():\n",
    "    data = division_crime_2014_to_2023[division_crime_2014_to_2023['Offence Division'] == division]\n",
    "    plt.plot(data['Year'], data['LGA Rate per 100,000 population'], label=division)\n",
    "\n",
    "plt.xlabel('Years')  # Label for x-axis\n",
    "plt.ylabel('LGA Rate per 100,000 population')  \n",
    "plt.title('Crime Rate by Offence Division over the period 2014-2023')  \n",
    "plt.legend()  # Show legend\n",
    "plt.grid(True)  # Show grid\n",
    "plt.xlim(2014, 2023)  \n",
    "plt.xticks(range(2014, 2024))\n",
    "\n",
    "# Set the range for the y-axis (adjust these values as needed)\n",
    "plt.ylim(0, division_crime_2014_to_2023['LGA Rate per 100,000 population'].max() * 1.2)  # 20% higher than the maximum value\n",
    "\n",
    "# Show y-axis labels spaced 30,000 apart\n",
    "plt.yticks(np.arange(0, division_crime_2014_to_2023['LGA Rate per 100,000 population'].max() * 1.2, step=30000))\n",
    "\n",
    "plt.savefig('Visualisation Images/crime rate by Offence Division over the period 2014-2023.png')\n"
   ]
  },
  {
   "cell_type": "markdown",
   "id": "341d6a3b-432e-4c47-9039-b7c986f6a6e1",
   "metadata": {},
   "source": [
    "## Regression Analysis"
   ]
  },
  {
   "cell_type": "code",
   "execution_count": 21,
   "id": "376d68b5-0394-474c-883c-43f04e0a150d",
   "metadata": {},
   "outputs": [],
   "source": [
    "import warnings\n",
    "warnings.filterwarnings('ignore')\n",
    "from pathlib import Path\n",
    "import pandas as pd\n",
    "import numpy as np\n",
    "import scipy.stats as stats\n",
    "import statsmodels.api as sm\n",
    "import matplotlib.pyplot as plt"
   ]
  },
  {
   "cell_type": "code",
   "execution_count": 22,
   "id": "3f39008e-91ef-4a18-be16-026506a6fa6e",
   "metadata": {},
   "outputs": [
    {
     "data": {
      "text/html": [
       "<div>\n",
       "<style scoped>\n",
       "    .dataframe tbody tr th:only-of-type {\n",
       "        vertical-align: middle;\n",
       "    }\n",
       "\n",
       "    .dataframe tbody tr th {\n",
       "        vertical-align: top;\n",
       "    }\n",
       "\n",
       "    .dataframe thead th {\n",
       "        text-align: right;\n",
       "    }\n",
       "</style>\n",
       "<table border=\"1\" class=\"dataframe\">\n",
       "  <thead>\n",
       "    <tr style=\"text-align: right;\">\n",
       "      <th></th>\n",
       "      <th>Year</th>\n",
       "      <th>Total LGA Crime Rate per 100,000 population</th>\n",
       "      <th>Property and deception offences Crime Rate per 100,000 population</th>\n",
       "      <th>Crimes against the person Crime Rate per 100,000 population</th>\n",
       "      <th>Average unemployment rate (Annual %)</th>\n",
       "      <th>Average inflation rate (Annual %)</th>\n",
       "    </tr>\n",
       "  </thead>\n",
       "  <tbody>\n",
       "    <tr>\n",
       "      <th>0</th>\n",
       "      <td>2014</td>\n",
       "      <td>326023.89</td>\n",
       "      <td>255167.29</td>\n",
       "      <td>70856.60</td>\n",
       "      <td>6.59</td>\n",
       "      <td>2.35</td>\n",
       "    </tr>\n",
       "    <tr>\n",
       "      <th>1</th>\n",
       "      <td>2015</td>\n",
       "      <td>342917.89</td>\n",
       "      <td>271006.89</td>\n",
       "      <td>71911.00</td>\n",
       "      <td>6.11</td>\n",
       "      <td>1.35</td>\n",
       "    </tr>\n",
       "    <tr>\n",
       "      <th>2</th>\n",
       "      <td>2016</td>\n",
       "      <td>374887.70</td>\n",
       "      <td>293118.11</td>\n",
       "      <td>81769.59</td>\n",
       "      <td>5.83</td>\n",
       "      <td>1.50</td>\n",
       "    </tr>\n",
       "    <tr>\n",
       "      <th>3</th>\n",
       "      <td>2017</td>\n",
       "      <td>337245.23</td>\n",
       "      <td>254775.00</td>\n",
       "      <td>82470.23</td>\n",
       "      <td>5.97</td>\n",
       "      <td>2.28</td>\n",
       "    </tr>\n",
       "    <tr>\n",
       "      <th>4</th>\n",
       "      <td>2018</td>\n",
       "      <td>331071.57</td>\n",
       "      <td>248374.87</td>\n",
       "      <td>82696.70</td>\n",
       "      <td>4.99</td>\n",
       "      <td>2.23</td>\n",
       "    </tr>\n",
       "    <tr>\n",
       "      <th>5</th>\n",
       "      <td>2019</td>\n",
       "      <td>341048.40</td>\n",
       "      <td>258613.15</td>\n",
       "      <td>82435.25</td>\n",
       "      <td>4.75</td>\n",
       "      <td>1.55</td>\n",
       "    </tr>\n",
       "    <tr>\n",
       "      <th>6</th>\n",
       "      <td>2020</td>\n",
       "      <td>298382.39</td>\n",
       "      <td>216877.93</td>\n",
       "      <td>81504.46</td>\n",
       "      <td>6.45</td>\n",
       "      <td>1.25</td>\n",
       "    </tr>\n",
       "    <tr>\n",
       "      <th>7</th>\n",
       "      <td>2021</td>\n",
       "      <td>288009.32</td>\n",
       "      <td>204586.13</td>\n",
       "      <td>83423.19</td>\n",
       "      <td>5.06</td>\n",
       "      <td>2.28</td>\n",
       "    </tr>\n",
       "    <tr>\n",
       "      <th>8</th>\n",
       "      <td>2022</td>\n",
       "      <td>285175.82</td>\n",
       "      <td>204335.81</td>\n",
       "      <td>80840.01</td>\n",
       "      <td>3.76</td>\n",
       "      <td>6.50</td>\n",
       "    </tr>\n",
       "    <tr>\n",
       "      <th>9</th>\n",
       "      <td>2023</td>\n",
       "      <td>317711.81</td>\n",
       "      <td>235520.41</td>\n",
       "      <td>82191.40</td>\n",
       "      <td>3.79</td>\n",
       "      <td>5.28</td>\n",
       "    </tr>\n",
       "  </tbody>\n",
       "</table>\n",
       "</div>"
      ],
      "text/plain": [
       "   Year  Total LGA Crime Rate per 100,000 population  \\\n",
       "0  2014                                    326023.89   \n",
       "1  2015                                    342917.89   \n",
       "2  2016                                    374887.70   \n",
       "3  2017                                    337245.23   \n",
       "4  2018                                    331071.57   \n",
       "5  2019                                    341048.40   \n",
       "6  2020                                    298382.39   \n",
       "7  2021                                    288009.32   \n",
       "8  2022                                    285175.82   \n",
       "9  2023                                    317711.81   \n",
       "\n",
       "   Property and deception offences Crime Rate per 100,000 population  \\\n",
       "0                                          255167.29                   \n",
       "1                                          271006.89                   \n",
       "2                                          293118.11                   \n",
       "3                                          254775.00                   \n",
       "4                                          248374.87                   \n",
       "5                                          258613.15                   \n",
       "6                                          216877.93                   \n",
       "7                                          204586.13                   \n",
       "8                                          204335.81                   \n",
       "9                                          235520.41                   \n",
       "\n",
       "   Crimes against the person Crime Rate per 100,000 population  \\\n",
       "0                                           70856.60             \n",
       "1                                           71911.00             \n",
       "2                                           81769.59             \n",
       "3                                           82470.23             \n",
       "4                                           82696.70             \n",
       "5                                           82435.25             \n",
       "6                                           81504.46             \n",
       "7                                           83423.19             \n",
       "8                                           80840.01             \n",
       "9                                           82191.40             \n",
       "\n",
       "   Average unemployment rate (Annual %)  Average inflation rate (Annual %)  \n",
       "0                                  6.59                               2.35  \n",
       "1                                  6.11                               1.35  \n",
       "2                                  5.83                               1.50  \n",
       "3                                  5.97                               2.28  \n",
       "4                                  4.99                               2.23  \n",
       "5                                  4.75                               1.55  \n",
       "6                                  6.45                               1.25  \n",
       "7                                  5.06                               2.28  \n",
       "8                                  3.76                               6.50  \n",
       "9                                  3.79                               5.28  "
      ]
     },
     "execution_count": 22,
     "metadata": {},
     "output_type": "execute_result"
    }
   ],
   "source": [
    "#Read data\n",
    "crime_and_economic_data_df = pd.read_csv(\"Data/crime_and_economic_data.csv\")\n",
    "crime_and_economic_data_df.head(11)\n",
    "crime_and_economic_data_df"
   ]
  },
  {
   "cell_type": "code",
   "execution_count": 23,
   "id": "8b249dbf-f7ed-4202-87e2-5ead6161fb62",
   "metadata": {},
   "outputs": [
    {
     "name": "stdout",
     "output_type": "stream",
     "text": [
      "                            OLS Regression Results                            \n",
      "==============================================================================\n",
      "Dep. Variable:                      y   R-squared:                       0.267\n",
      "Model:                            OLS   Adj. R-squared:                  0.058\n",
      "Method:                 Least Squares   F-statistic:                     1.277\n",
      "Date:                Tue, 09 Apr 2024   Prob (F-statistic):              0.337\n",
      "Time:                        15:57:04   Log-Likelihood:                -114.44\n",
      "No. Observations:                  10   AIC:                             234.9\n",
      "Df Residuals:                       7   BIC:                             235.8\n",
      "Df Model:                           2                                         \n",
      "Covariance Type:            nonrobust                                         \n",
      "========================================================================================================\n",
      "                                           coef    std err          t      P>|t|      [0.025      0.975]\n",
      "--------------------------------------------------------------------------------------------------------\n",
      "const                                 3.695e+05   9.51e+04      3.884      0.006    1.45e+05    5.95e+05\n",
      "Average unemployment rate (Annual %) -3682.4877   1.43e+04     -0.257      0.805   -3.76e+04    3.02e+04\n",
      "Average inflation rate (Annual %)    -9662.5773   8271.303     -1.168      0.281   -2.92e+04    9895.945\n",
      "==============================================================================\n",
      "Omnibus:                        0.771   Durbin-Watson:                   1.014\n",
      "Prob(Omnibus):                  0.680   Jarque-Bera (JB):                0.194\n",
      "Skew:                          -0.327   Prob(JB):                        0.908\n",
      "Kurtosis:                       2.810   Cond. No.                         68.5\n",
      "==============================================================================\n",
      "\n",
      "Notes:\n",
      "[1] Standard Errors assume that the covariance matrix of the errors is correctly specified.\n"
     ]
    }
   ],
   "source": [
    "# Define the dependent and independent variables\n",
    "y = crime_and_economic_data_df['Total LGA Crime Rate per 100,000 population']\n",
    "X = crime_and_economic_data_df[['Average unemployment rate (Annual %)', 'Average inflation rate (Annual %)']]\n",
    "\n",
    "# Convert X to a StatsModels data structure by adding a constant term\n",
    "X = sm.add_constant(X)\n",
    "\n",
    "# Convert y to a NumPy array\n",
    "y = y.values\n",
    "\n",
    "# Fit the regression model\n",
    "Total_LGA_Crime= sm.OLS(y, X).fit()\n",
    "\n",
    "# Print the regression summary\n",
    "print(Total_LGA_Crime.summary())\n",
    "\n"
   ]
  },
  {
   "cell_type": "code",
   "execution_count": 25,
   "id": "ec4914a5-3f41-4163-a48c-38965756d2d3",
   "metadata": {},
   "outputs": [
    {
     "data": {
      "image/png": "[encoded data removed]",
      "text/plain": [
       "<Figure size 640x480 with 1 Axes>"
      ]
     },
     "metadata": {},
     "output_type": "display_data"
    }
   ],
   "source": [
    "import numpy as np\n",
    "import matplotlib.pyplot as plt\n",
    "\n",
    "# Define a range of values for the independent variable (e.g., Average Unemployment Rate)\n",
    "x_range_unemployment = np.linspace(X.iloc[:, 1].min(), X.iloc[:, 1].max(), 100)\n",
    "\n",
    "# Define a range of values for the other independent variable (e.g., Average Inflation Rate)\n",
    "x_range_inflation = np.linspace(X.iloc[:, 2].min(), X.iloc[:, 2].max(), 100)\n",
    "\n",
    "# Calculate predicted values using the regression equation for both variables\n",
    "predicted_values_unemployment = model.params[0] + model.params[1] * x_range_unemployment + model.params[2] * X.iloc[:, 2].mean()\n",
    "predicted_values_inflation = model.params[0] + model.params[1] * X.iloc[:, 1].mean() + model.params[2] * x_range_inflation\n",
    "\n",
    "# Scatter plot of the actual data points\n",
    "plt.scatter(X.iloc[:, 1], y, label='Actual Data (Unemployment)', color='blue')\n",
    "plt.scatter(X.iloc[:, 2], y, label='Actual Data (Inflation)', color='green')\n",
    "\n",
    "# Plotting the regression line for both variables\n",
    "plt.plot(x_range_unemployment, predicted_values_unemployment, label='Regression Line (Unemployment)', color='red')\n",
    "plt.plot(x_range_inflation, predicted_values_inflation, label='Regression Line (Inflation)', color='orange')\n",
    "\n",
    "# Adding labels and legend\n",
    "plt.xlabel('Average Unemployment Rate (Annual %) / Average Inflation Rate (Annual %)')\n",
    "plt.ylabel('Total LGA Crime Rate per 100,000 population')\n",
    "plt.title('Regression Analysis')\n",
    "plt.legend()\n",
    "\n",
    "# Display the plot\n",
    "plt.show()\n"
   ]
  },
  {
   "cell_type": "code",
   "execution_count": null,
   "id": "4f3c9aef-51b9-4f59-abe2-6b4803d55136",
   "metadata": {},
   "outputs": [],
   "source": []
  }
 ],
 "metadata": {
  "kernelspec": {
   "display_name": "Python 3 (ipykernel)",
   "language": "python",
   "name": "python3"
  },
  "language_info": {
   "codemirror_mode": {
    "name": "ipython",
    "version": 3
   },
   "file_extension": ".py",
   "mimetype": "text/x-python",
   "name": "python",
   "nbconvert_exporter": "python",
   "pygments_lexer": "ipython3",
   "version": "3.11.7"
  }
 },
 "nbformat": 4,
 "nbformat_minor": 5
}
