





# Dependencies
import pandas as pd
import numpy as np
import matplotlib.pyplot as plt


# Read in the dataset for crimes recorded in Victoria
vic_crimes = pd.read_csv("Data/crime_table2.csv", low_memory=False).dropna(how='any')
vic_crimes["Year"] = vic_crimes["Year"].astype(int)
vic_crimes.head()


# Get relevant columns
clean_crimes = vic_crimes[["Year", "Local Government Area", "Offence Division", "Offence Subdivision", 
                     "Incidents Recorded", "LGA Rate per 100,000 population"]]
clean_crimes.head()





# Filter to only show data by Local Government Area and LGA Rate per 100,000 population for year 2023
crime_23 = clean_crimes.loc[clean_crimes["Year"] == 2023]
crime_all_LGAs = crime_23.groupby("Local Government Area")["LGA Rate per 100,000 population"].sum().reset_index()
crime_all_LGAs_sorted = crime_all_LGAs.sort_values(by="LGA Rate per 100,000 population", ascending=True)  
crime_all_LGAs_sorted.head()


#Plot a horozontal bar chart to show all data clearly.

plt.figure(figsize=(10, 16))

plt.barh(crime_all_LGAs_sorted["Local Government Area"], 
         crime_all_LGAs_sorted["LGA Rate per 100,000 population"],
         color='indigo')

plt.title("Crime Rate by Local Government Area for 2023")
plt.xlabel("LGA Rate per 100,000 population")

plt.yticks(crime_all_LGAs_sorted["Local Government Area"], fontsize=12)

plt.grid(axis='x', linestyle='-')
plt.ylim(-0.75, len(crime_all_LGAs_sorted["Local Government Area"]) - 0.25)

plt.savefig('Visualisation Images/crime rate all LGAs 2023.png', bbox_inches='tight')






# Filter to only show data by top 10 Local Government Area and LGA Rate per 100,000 population for year 2023
crime_23 = clean_crimes.loc[clean_crimes["Year"] == 2023]
crime_all_LGAs = crime_23.groupby("Local Government Area")["LGA Rate per 100,000 population"].sum().reset_index()
crime_all_LGAs_sorted = crime_all_LGAs.sort_values(by="LGA Rate per 100,000 population", ascending=False)

top_10_LGAs = crime_all_LGAs_sorted.head(10)
top_10_LGAs


# Plotting the top 10 Local Government Areas based on crime rate
plt.figure(figsize=(14, 12))
plt.barh(top_10_LGAs["Local Government Area"], top_10_LGAs["LGA Rate per 100,000 population"], color='lightcoral')
plt.title("Top 10 Local Government Area for Crime rate 2023")
plt.xlabel("LGA Rate per 100,000 population")
plt.gca().invert_yaxis()
plt.grid(axis='x', linestyle='-')
plt.savefig('Visualisation Images/top 10 LGA crime rate 2023.png', bbox_inches='tight')






# Define the list of desired Local Government Areas
desired_LGAs = ['Melbourne', 'Latrobe', 'Mildura', 'Yarra', 'Port Phillip',
                'Greater Dandenong', 'Horsham', "Ararat", 'Greater Shepparton', 'Maribyrnong']

# Filter the DataFrame to include only the desired LGAs and years
filtered_crimes = clean_crimes[(clean_crimes['Year'] >= 2014) & (clean_crimes['Year'] <= 2023) &
                                (clean_crimes['Local Government Area'].isin(desired_LGAs))]

# Group by Year and Local Government Area, and sum the 'LGA Rate per 100,000 population' column
LGA_crime_2014_to_2023 = filtered_crimes.groupby(['Year', 'Local Government Area'])['LGA Rate per 100,000 population'].sum().reset_index()
LGA_crime_2014_to_2023.head()



# Plotting the line chart
plt.figure(figsize=(12, 16))  # Adjust the figure size as needed
for LGA in desired_LGAs:
    LGA_data = LGA_crime_2014_to_2023[LGA_crime_2014_to_2023['Local Government Area'] == LGA]
    plt.plot(LGA_data['Year'], LGA_data['LGA Rate per 100,000 population'], label=LGA)

plt.title('Top 10 LGAs Crime Rate over the period 2014-2023')
plt.xlabel('Years')
plt.ylabel('LGA Rate per 100,000 population')
plt.legend()
plt.grid(True)

# Set x-axis limits and ticks to start from the very beginning
plt.xlim(2014, 2023)  # Set the x-axis limits from 2014 to 2023
plt.xticks(range(2014, 2024))  

plt.tight_layout()  

plt.savefig('Visualisation Images/top 10 LGA crime rate over the period 2014-2023.png')







# To create a dataframe for showing crime incidents recorded by offence division. 
# Group by 'Offence Division' and sum the 'Incidents Recorded' column
divisions_group = crime_23.groupby("Offence Division")['Incidents Recorded'].sum()

# Create a DataFrame from the grouped data
division_incidents = pd.DataFrame(divisions_group).reset_index()
division_incidents['Offence Division'] = division_incidents['Offence Division'].apply(lambda x: x[1:])
division_incidents


#Plotting the pie chart
division_incidents['Percentage'] = (division_incidents['Incidents Recorded'] / division_incidents['Incidents Recorded'].sum()) * 100
plt.figure(figsize=(8, 8))
colours = ["gold", "yellowgreen", "lightcoral", "lightskyblue", "red", "violet"]
explode = [0, 0.05, 0, 0, 0, 0]
plt.pie(division_incidents['Incidents Recorded'], autopct='%.02f%%', colors=colours, radius=1,
        startangle=28, explode=explode, pctdistance=1.2)
plt.title("Major Divisions of Offences by Incidents Recorded in 2023", x=0.7)

plt.legend(division_incidents['Offence Division'], loc=(1.07, 0.3), title="Offence Divisions")


plt.tight_layout()

plt.savefig('Visualisation Images/major division of offences for 2023.png')



## To create a dataframe for showing crime incidents recorded by offence subdivision. 
crimes_by_subdivision = clean_crimes.loc[clean_crimes["Year"] == 2023]
crimes_by_subdivision = crimes_by_subdivision.groupby(['Offence Subdivision'])["Incidents Recorded"].sum().reset_index()
crimes_by_subdivision_sorted = crimes_by_subdivision.sort_values(by="Incidents Recorded", ascending=False)
crimes_by_subdivision_sorted['Offence Subdivision'] = crimes_by_subdivision_sorted['Offence Subdivision'].apply(lambda x: x[3:])
crimes_by_subdivision_sorted_on = crimes_by_subdivision_sorted.head(10)

crimes_by_subdivision_sorted.head()


# Plotting the bar chart
plt.figure(figsize=(14, 12))
plt.barh(crimes_by_subdivision_sorted_on['Offence Subdivision'], crimes_by_subdivision_sorted_on['Incidents Recorded'], color='navy')
plt.xlabel('Incidents Recorded')
plt.title('Top 10 Offence Subdivisions by Incidents Recorded in 2023')
plt.tight_layout()
plt.gca().invert_yaxis()
plt.grid(axis='x', linestyle='-')
plt.savefig('Visualisation Images/top 10 Offence subdivisions by incidents recorded.png')


# Filter data on Top 10 LGAs by Offence Division for 2023. 

crimes_by_subdivision = clean_crimes.loc[clean_crimes["Year"] == 2023]

# Group by "Local Government Area" and "Offence Division", summing up "LGA Rate per 100,000 population"
crimes_by_subdivision = crimes_by_subdivision.groupby(["Local Government Area", 'Offence Division'])["LGA Rate per 100,000 population"].sum().reset_index()

crimes_by_subdivision['Offence Division'] = crimes_by_subdivision['Offence Division'].apply(lambda x: x[1:])
crimes_by_subdivision.head()


 # List of selected LGAs
selected_lgas = ['Melbourne', 'Latrobe', 'Mildura', 'Yarra', 'Port Phillip', 'Greater Dandenong', 'Horsham', 'Ararat', 'Greater Shepparton', 'Maribyrnong']


# Filter the DataFrame to include only the selected LGAs
selected_crimes = crimes_by_subdivision[crimes_by_subdivision['Local Government Area'].isin(selected_lgas)]

# Sort the selected crimes DataFrame by "Offence Division" and "LGA Rate per 100,000 population" in descending order
selected_crimes_sorted = selected_crimes.sort_values(by=["Offence Division", "LGA Rate per 100,000 population"], ascending=[True, False])

# Reset the index to make 'Local Government Area' a column again
selected_crimes_sorted.reset_index(drop=True, inplace=True)

# Pivot the DataFrame to have 'Offence Division' as columns
pivoted_crimes = selected_crimes_sorted.pivot(index='Local Government Area', columns='Offence Division', values='LGA Rate per 100,000 population')

# Calculate the total sum of each Offence Division and sort the columns (Offence Divisions) by these sums in descending order
sorted_columns = pivoted_crimes.sum().sort_values(ascending=False).index
pivoted_crimes = pivoted_crimes[sorted_columns]

# Calculate the total sum of each LGA and sort the rows (LGAs) by these sums in descending order
sorted_rows = pivoted_crimes.sum(axis=1).sort_values(ascending=False).index
pivoted_crimes = pivoted_crimes.loc[sorted_rows]


# Adjust keys in colors_dict by stripping leading/trailing spaces
colors_dict = {
    'Crimes against the person': 'gold',
    'Property and deception offences': 'yellowgreen',
    'Drug offences': 'lightcoral',
    'Public order and security offences': 'lightskyblue',
    'Justice procedures offences': 'red',
    'Other offences': 'violet'
}


# Strip leading/trailing spaces from pivoted_crimes columns before using them as keys
pivoted_crimes.columns = pivoted_crimes.columns.str.strip()

# Plotting the stacked bar chart
ax = pivoted_crimes.plot(kind='barh', stacked=True, figsize=(12, 12), color=[colors_dict[col] for col in pivoted_crimes.columns])
plt.title('Stacked Bar Chart for Top 10 LGAs by Offence Division for 2023')
plt.xlabel('LGA Rate per 100,000 population')
ax.set_ylabel('')
plt.legend(title='Offence Division')
plt.tight_layout()
plt.gca().invert_yaxis()

plt.savefig('Visualisation Images/stacked bar Chart for top 10 LGAs by offence division for 2023.png')








# Group by Year and Offence Division, and sum the 'Incidents Recorded' column
division_crime_2014_to_2023 = clean_crimes.groupby(['Year', 'Offence Division'])['LGA Rate per 100,000 population'].sum().reset_index()
division_crime_2014_to_2023['Offence Division'] = division_crime_2014_to_2023['Offence Division'].apply(lambda x: x[1:])
division_crime_2014_to_2023.head()


# Plotting the line chart
plt.figure(figsize=(14, 10))  # Set the figure size
for division in division_crime_2014_to_2023['Offence Division'].unique():
    data = division_crime_2014_to_2023[division_crime_2014_to_2023['Offence Division'] == division]
    plt.plot(data['Year'], data['LGA Rate per 100,000 population'], label=division)

plt.xlabel('Years')  # Label for x-axis
plt.ylabel('LGA Rate per 100,000 population')  
plt.title('Crime Rate by Offence Division over the period 2014-2023')  
plt.legend()  # Show legend
plt.grid(True)  # Show grid
plt.xlim(2014, 2023)  
plt.xticks(range(2014, 2024))

# Set the range for the y-axis (adjust these values as needed)
plt.ylim(0, division_crime_2014_to_2023['LGA Rate per 100,000 population'].max() * 1.2)  # 20% higher than the maximum value

# Show y-axis labels spaced 30,000 apart
plt.yticks(np.arange(0, division_crime_2014_to_2023['LGA Rate per 100,000 population'].max() * 1.2, step=30000))

plt.savefig('Visualisation Images/crime rate by Offence Division over the period 2014-2023.png')






import warnings
warnings.filterwarnings('ignore')
from pathlib import Path
import pandas as pd
import numpy as np
import scipy.stats as stats
import statsmodels.api as sm
import matplotlib.pyplot as plt


#Read data
crime_and_economic_data_df = pd.read_csv("Data/crime_and_economic_data.csv")
crime_and_economic_data_df.head(11)
crime_and_economic_data_df


# Define the dependent and independent variables
y = crime_and_economic_data_df['Total LGA Crime Rate per 100,000 population']
X = crime_and_economic_data_df[['Average unemployment rate (Annual %)', 'Average inflation rate (Annual %)']]

# Convert X to a StatsModels data structure by adding a constant term
X = sm.add_constant(X)

# Convert y to a NumPy array
y = y.values

# Fit the regression model
Total_LGA_Crime= sm.OLS(y, X).fit()

# Print the regression summary
print(Total_LGA_Crime.summary())




# Define the dependent and independent variables
y = crime_and_economic_data_df['Property and deception offences Crime Rate per 100,000 population']
X = crime_and_economic_data_df[['Average unemployment rate (Annual %)', 'Average inflation rate (Annual %)']]

# Convert X to a StatsModels data structure by adding a constant term
X = sm.add_constant(X)

# Convert y to a NumPy array
y = y.values

# Fit the regression model
Total_LGA_Crime= sm.OLS(y, X).fit()

# Print the regression summary
print(Total_LGA_Crime.summary())



# Define the dependent and independent variables
y = crime_and_economic_data_df['Crimes against the person Crime Rate per 100,000 population']
X = crime_and_economic_data_df[['Average unemployment rate (Annual %)', 'Average inflation rate (Annual %)']]

# Convert X to a StatsModels data structure by adding a constant term
X = sm.add_constant(X)

# Convert y to a NumPy array
y = y.values

# Fit the regression model
Total_LGA_Crime= sm.OLS(y, X).fit()

# Print the regression summary
print(Total_LGA_Crime.summary())




