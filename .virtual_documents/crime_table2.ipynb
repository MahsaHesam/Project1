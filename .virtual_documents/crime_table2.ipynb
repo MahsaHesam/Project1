





# Dependencies
import pandas as pd
import numpy as np
import matplotlib.pyplot as plt


# Read in the dataset for crimes recorded in Victoria
vic_crimes = pd.read_csv("Data/crime_table2.csv", low_memory=False).dropna(how='any')
vic_crimes["Year"] = vic_crimes["Year"].astype(int)
vic_crimes


# Filter to only show data in 2023
crime_23 = vic_crimes.loc[vic_crimes["Year"] == 2023]
crime_23 = crime_23[["Local Government Area", "Offence Division", "Offence Subdivision", "Incidents Recorded", "LGA Rate per 100,000 population"]]
crime_23





# Groupby LGA to analysis by incidents by LGA
lga_group = crime_23.groupby("Local Government Area")
lga_incidents = pd.DataFrame(lga_group["LGA Rate per 100,000 population"].sum()).reset_index()
lga_incidents


# Split DF into two
first = lga_incidents.iloc[:40,:]
second = lga_incidents.iloc[40:,:]


# Create function to create bar graphs
def bar_graph(data, title=""):
    lga = data["Local Government Area"]
    rate = data["LGA Rate per 100,000 population"]
    plt.bar(lga, rate)
    plt.xticks(rotation=90, fontsize='xx-small')
    plt.title(title)
    plt.xlabel("Local Government Area")
    plt.ylabel("Rate (per 100,000 population)")
    plt.ylim(0,16000)
    plt.show


# Graph incidents recorded for the first half
bar_graph(first, title="Rate of Crimincal Incidents in Different LGAs in 2023")
## Graph limit was set to 16,000 to compare with the second graph


# Graph incidents recorded for the second half
bar_graph(second, title="Rate of Crimincal Incidents in Different LGAs in 2023")


# Sort DataFrame
sorted_lga_incidents = lga_incidents.sort_values(by="LGA Rate per 100,000 population", ascending=False)
sorted_lga_incidents


# Reset index
sorted_lga_incidents = sorted_lga_incidents.reset_index()


# Create horizontal bar chart 






# Get top 10 LGA
top_10 = sorted_lga_incidents.iloc[:10,:]
top_10


# Graph the top 10
bar_graph(top_10, title="Top 10 LGAs With Highest Crimincal Incident Rates in 2023")





# Use crime_23 to make pie chart of crime divisions
# Groupby crime divisions
divisions_group = crime_23.groupby("Offence Division")
division_incidents = pd.DataFrame(divisions_group["Incidents Recorded"].sum())
division_incidents


# Get total number of incidents
total_incidents = division_incidents["Incidents Recorded"].sum()

# Create lists
division = []
incidents = []

# Add to list
for index, row in division_incidents.itertuples():
    division.append(index)
    percentages = round((row / total_incidents * 100),2)
    incidents.append(percentages)


# Rename names in list
division[0] = "Crimes Against the Person"
division[1] = "Property & Deception offences"
division[2] = "Drug Offences"
division[3] = "Public Order & Security Offences"
division[4] = "Justice Procedures Offences"
division[5] = "Other Offences"
division


# Create pie chart for crime divisions
colours = ["gold", "yellowgreen", "lightcoral", "lightskyblue", "red", "violet"]
explode = [0,0.05,0,0,0,0]
plt.pie(incidents, autopct='%.02f%%', colors = colours, radius=1,
        startangle=28, explode=explode, pctdistance=1.2)
plt.title("Distribution of Offence Divisions")
plt.legend(division, bbox_to_anchor=(1.76,0.8), loc="center right", title="Offence Divisions")





# Groupby year and offence division
crime_year = vic_crimes.groupby(["Offence Division", "Year"])["Incidents Recorded"]
crime_change_per_year = pd.DataFrame(crime_year.sum())

# Unstack to make it easier to read
crime_unstack = crime_change_per_year.unstack()
crime_unstack.columns = crime_unstack.columns.droplevel()
crime_unstack


# Plot graph
# Create variables for each offence division
person = 'A Crimes against the person'
deception = 'B Property and deception offences'
drug = 'C Drug offences'
public = 'D Public order and security offences'
justice = 'E Justice procedures offences'
other = 'F Other offences'


# Create a list of years for the x axis
years = [2014, 2015, 2016, 2017, 2018, 2019, 2020, 2021, 2022, 2023]


# Create series for each offence division
person_over_time = crime_unstack.loc[person, years]
deception_over_time = crime_unstack.loc[deception, years]
drug_over_time = crime_unstack.loc[drug, years]
public_over_time = crime_unstack.loc[public, years]
justice_over_time = crime_unstack.loc[justice, years]
other_over_time = crime_unstack.loc[other, years]


# Plot graphs
plt.plot(years, person_over_time, color='green', label=person)
plt.plot(years, deception_over_time, color='red', label=deception)
plt.plot(years, drug_over_time, color='blue', label=drug)
plt.plot(years, public_over_time, color='purple', label=public)
plt.plot(years, justice_over_time, color='orange', label=justice)
plt.plot(years, other_over_time, color='black', label=other)

# Format graph
plt.title("Change in Offence Division Incidents Recorded (2014 - 2023)")
plt.xlabel("Years")
plt.ylabel("Recorded Incidents")
plt.xticks(np.arange(min(years), max(years)+1, 1.0))
plt.legend(loc='center left')
plt.show



